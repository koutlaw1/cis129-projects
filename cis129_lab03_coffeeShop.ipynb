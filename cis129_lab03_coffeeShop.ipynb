{
 "cells": [
  {
   "cell_type": "code",
   "execution_count": null,
   "id": "53d34cc9-62ff-461f-89c4-6080fbeab069",
   "metadata": {
    "scrolled": true
   },
   "outputs": [],
   "source": [
    "# cis129_lab03_coffeeShop\n",
    "# Kassidy Outlaw's cis129 lab 03 coffee shop program\n",
    "\"\"\"Create a uniquely generated Coffee and Muffin Shop Receipt with user input\"\"\"\n",
    "\n",
    "# welcome message\n",
    "print('Welcome to my Coffee Shop!')\n",
    "\n",
    "# Declaring product name, price, and overall sales tax while storing each as variables\n",
    "coffee_price = 5\n",
    "muffin_price = 4\n",
smoothie_price = 6
bagel_price = 3
    "tax_amount =.06\n",
    "\n",
    "# Gathering quantities from customer through input\n",
    "number_1 = int(input('Number of Coffees Bought? '))\n",
    "number_2 = int(input('Number of Muffins Bought? '))\n",
number_3 int(input('Number of Smoothies bought? '))
number_4 int(input('Number of Bagels bought? '))
    "\n",
    "# Processing and calculating total cost. \n",
    "# Multiplying individual quantities gathered through input to declared values to create a total.\n",
    "sum1 = (number_1 * coffee_price) \n",
    "sum2 = (number_2 * muffin_price)\n",
sum3 = (number_3 * smoothie_price)
sum4 = (number_4 * bagel_price)
    "\n",
    "#Multiplying total with sales tax to yield grand total.\n",
    "total = sum1 + sum2 + sum3 + sum4\n",
    "final_total = (total * tax_amount) + total\n",
    "\n",
    "# Formatting receipt and excecutions. Gives a descriptive, itemized receipt and displays totals to the customer. \n",
    "## Displays custom quantities (number_1, number_2) with description of purchase, displays tax amount and grand total. Prints 'thank you' message.\n",
    "\n",
    "\n",
    "print(\"My Coffee and Muffin Shop Receipt \")\n",
    "print(number_1,'Coffees at $5.00 Each:') \n",
    "print(number_2,'Muffins at $4.00 Each:')\n",
print(number_3,'Smoothies at $6.00 Each:')
print(number_4, 'Bagels at $3.00 Each:')
    "print('6% tax:', total * tax_amount)\n",
    "\n",
    "print('\\nTotal is: $',final_total)\n",
    "print('\\nThank you for shopping with me:) \\n Please come again!')\n",
    "\n",
    "\n",
    "\n",
    "\n",
    "\n",
    "\n",
    "\n",
    "\n",
    "\n",
    "\n",
    "\n",
    "\n",
    "\n"
   ]
  },
  {
   "cell_type": "markdown",
   "id": "6894481c-ca6d-454d-a77f-6dc7307cacc7",
   "metadata": {},
   "source": []
  }
 ],
 "metadata": {
  "kernelspec": {
   "display_name": "Python [conda env:base] *",
   "language": "python",
   "name": "conda-base-py"
  },
  "language_info": {
   "codemirror_mode": {
    "name": "ipython",
    "version": 3
   },
   "file_extension": ".py",
   "mimetype": "text/x-python",
   "name": "python",
   "nbconvert_exporter": "python",
   "pygments_lexer": "ipython3",
   "version": "3.11.7"
  }
 },
 "nbformat": 4,
 "nbformat_minor": 5
}
